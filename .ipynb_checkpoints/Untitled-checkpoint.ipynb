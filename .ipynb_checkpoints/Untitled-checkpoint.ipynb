{
 "cells": [
  {
   "cell_type": "code",
   "execution_count": 1,
   "metadata": {},
   "outputs": [],
   "source": [
    "import warnings\n",
    "warnings.filterwarnings('ignore')\n",
    "import numpy as np\n",
    "import cv2\n",
    "from keras.models import load_model\n",
    "facedetect = cv2.CascadeClassifier('haarcascade_frontalface_default.xml')\n",
    "threshold=0.90\n",
    "cap=cv2.VideoCapture(0)\n",
    "cap.set(3, 640)\n",
    "cap.set(4, 480)\n",
    "font=cv2.FONT_HERSHEY_COMPLEX\n",
    "model = load_model('MyTrainingModel.h5')"
   ]
  },
  {
   "cell_type": "code",
   "execution_count": 2,
   "metadata": {},
   "outputs": [],
   "source": [
    "def preprocessing(img):\n",
    "    img=img.astype(\"uint8\")\n",
    "    img=cv2.cvtColor(img, cv2.COLOR_BGR2GRAY)\n",
    "    img=cv2.equalizeHist(img)\n",
    "    img = img/255\n",
    "    return img"
   ]
  },
  {
   "cell_type": "code",
   "execution_count": 3,
   "metadata": {},
   "outputs": [],
   "source": [
    "\n",
    "def get_className(classNo):\n",
    "    if classNo==0:\n",
    "        return \"Mask\"\n",
    "    elif classNo==1:\n",
    "        return \"No Mask\"\n"
   ]
  },
  {
   "cell_type": "code",
   "execution_count": null,
   "metadata": {},
   "outputs": [],
   "source": [
    "while True:\n",
    "    sucess, imgOrignal=cap.read()\n",
    "    faces = facedetect.detectMultiScale(imgOrignal,1.3,5)\n",
    "    for x,y,w,h in faces:\n",
    "        # cv2.rectangle(imgOrignal,(x,y),(x+w,y+h),(50,50,255),2)\n",
    "        # cv2.rectangle(imgOrignal, (x,y-40),(x+w, y), (50,50,255),-2)\n",
    "        crop_img=imgOrignal[y:y+h,x:x+h]\n",
    "        img=cv2.resize(crop_img, (32,32))\n",
    "        img=preprocessing(img)\n",
    "        img=img.reshape(1, 32, 32, 1)\n",
    "        # cv2.putText(imgOrignal, \"Class\" , (20,35), font, 0.75, (0,0,255),2, cv2.LINE_AA)\n",
    "        # cv2.putText(imgOrignal, \"Probability\" , (20,75), font, 0.75, (255,0,255),2, cv2.LINE_AA)\n",
    "        prediction=model.predict(img)\n",
    "        classIndex=model.predict_classes(img)\n",
    "        probabilityValue=np.amax(prediction)\n",
    "        if probabilityValue>threshold:\n",
    "            if classIndex==0:\n",
    "                cv2.rectangle(imgOrignal,(x,y),(x+w,y+h),(0,255,0),2)\n",
    "                cv2.rectangle(imgOrignal, (x,y-40),(x+w, y), (0,255,0),-2)\n",
    "                cv2.putText(imgOrignal, str(get_className(classIndex)),(x,y-10), font, 0.75, (255,255,255),1, cv2.LINE_AA)\n",
    "            elif classIndex==1:\n",
    "                cv2.rectangle(imgOrignal,(x,y),(x+w,y+h),(50,50,255),2)\n",
    "                cv2.rectangle(imgOrignal, (x,y-40),(x+w, y), (50,50,255),-2)\n",
    "                cv2.putText(imgOrignal, str(get_className(classIndex)),(x,y-10), font, 0.75, (255,255,255),1, cv2.LINE_AA)\n",
    "                # cv2.putText(imgOrignal,str(round(probabilityValue*100, 2))+\"%\" ,(180, 75), font, 0.75, (255,0,0),2, cv2.LINE_AA)\n",
    "    cv2.imshow(\"Result\",imgOrignal)\n",
    "    k=cv2.waitKey(1)\n",
    "    if k==ord('q'):\n",
    "        break\n"
   ]
  },
  {
   "cell_type": "code",
   "execution_count": 7,
   "metadata": {},
   "outputs": [
    {
     "ename": "NameError",
     "evalue": "name 'cap' is not defined",
     "output_type": "error",
     "traceback": [
      "\u001b[0;31m---------------------------------------------------------------------------\u001b[0m",
      "\u001b[0;31mNameError\u001b[0m                                 Traceback (most recent call last)",
      "\u001b[0;32m<ipython-input-7-329c4968c28a>\u001b[0m in \u001b[0;36m<module>\u001b[0;34m\u001b[0m\n\u001b[0;32m----> 1\u001b[0;31m \u001b[0mcap\u001b[0m\u001b[0;34m.\u001b[0m\u001b[0mrelease\u001b[0m\u001b[0;34m(\u001b[0m\u001b[0;34m)\u001b[0m\u001b[0;34m\u001b[0m\u001b[0;34m\u001b[0m\u001b[0m\n\u001b[0m\u001b[1;32m      2\u001b[0m \u001b[0mcv2\u001b[0m\u001b[0;34m.\u001b[0m\u001b[0mdestroyAllWindows\u001b[0m\u001b[0;34m(\u001b[0m\u001b[0;34m)\u001b[0m\u001b[0;34m\u001b[0m\u001b[0;34m\u001b[0m\u001b[0m\n\u001b[1;32m      3\u001b[0m \u001b[0;34m\u001b[0m\u001b[0m\n\u001b[1;32m      4\u001b[0m \u001b[0;34m\u001b[0m\u001b[0m\n",
      "\u001b[0;31mNameError\u001b[0m: name 'cap' is not defined"
     ]
    }
   ],
   "source": [
    "\n",
    "\n",
    "\n",
    "cap.release()\n",
    "cv2.destroyAllWindows()\n",
    "\n",
    "\n"
   ]
  },
  {
   "cell_type": "code",
   "execution_count": 1,
   "metadata": {},
   "outputs": [],
   "source": [
    "# datacollector\n",
    "import cv2\n",
    "\n",
    "video=cv2.VideoCapture(0)\n",
    "\n",
    "facedetect=cv2.CascadeClassifier('haarcascade_frontalface_default.xml')\n",
    "\n",
    "count=0"
   ]
  },
  {
   "cell_type": "code",
   "execution_count": null,
   "metadata": {},
   "outputs": [
    {
     "name": "stdout",
     "output_type": "stream",
     "text": [
      "Creating Images........../images/face_without_mask/1.jpg\n",
      "Creating Images........../images/face_without_mask/2.jpg\n",
      "Creating Images........../images/face_without_mask/3.jpg\n",
      "Creating Images........../images/face_without_mask/4.jpg\n",
      "Creating Images........../images/face_without_mask/5.jpg\n",
      "Creating Images........../images/face_without_mask/6.jpg\n",
      "Creating Images........../images/face_without_mask/7.jpg\n",
      "Creating Images........../images/face_without_mask/8.jpg\n",
      "Creating Images........../images/face_without_mask/9.jpg\n",
      "Creating Images........../images/face_without_mask/10.jpg\n",
      "Creating Images........../images/face_without_mask/11.jpg\n",
      "Creating Images........../images/face_without_mask/12.jpg\n",
      "Creating Images........../images/face_without_mask/13.jpg\n",
      "Creating Images........../images/face_without_mask/14.jpg\n",
      "Creating Images........../images/face_without_mask/15.jpg\n",
      "Creating Images........../images/face_without_mask/16.jpg\n",
      "Creating Images........../images/face_without_mask/17.jpg\n",
      "Creating Images........../images/face_without_mask/18.jpg\n",
      "Creating Images........../images/face_without_mask/19.jpg\n",
      "Creating Images........../images/face_without_mask/20.jpg\n",
      "Creating Images........../images/face_without_mask/21.jpg\n",
      "Creating Images........../images/face_without_mask/22.jpg\n",
      "Creating Images........../images/face_without_mask/23.jpg\n",
      "Creating Images........../images/face_without_mask/24.jpg\n",
      "Creating Images........../images/face_without_mask/25.jpg\n",
      "Creating Images........../images/face_without_mask/26.jpg\n",
      "Creating Images........../images/face_without_mask/27.jpg\n",
      "Creating Images........../images/face_without_mask/28.jpg\n",
      "Creating Images........../images/face_without_mask/29.jpg\n",
      "Creating Images........../images/face_without_mask/30.jpg\n",
      "Creating Images........../images/face_without_mask/31.jpg\n",
      "Creating Images........../images/face_without_mask/32.jpg\n",
      "Creating Images........../images/face_without_mask/33.jpg\n"
     ]
    }
   ],
   "source": [
    "while True:\n",
    "    ret,frame=video.read()\n",
    "    faces=facedetect.detectMultiScale(frame,1.3, 5)\n",
    "    for x,y,w,h in faces:\n",
    "        count=count+1\n",
    "        name='./images/face_without_mask/'+ str(count) + '.jpg'\n",
    "        print(\"Creating Images.........\" +name)\n",
    "        cv2.imwrite(name, frame[y:y+h,x:x+w])\n",
    "        cv2.rectangle(frame, (x,y), (x+w, y+h), (0,255,0), 3)\n",
    "    cv2.imshow(\"WindowFrame\", frame)\n",
    "    cv2.waitKey(1)\n",
    "    if count>500:\n",
    "        break\n",
    "video.release()\n",
    "cv2.destroyAllWindows()"
   ]
  },
  {
   "cell_type": "code",
   "execution_count": null,
   "metadata": {},
   "outputs": [],
   "source": []
  }
 ],
 "metadata": {
  "kernelspec": {
   "display_name": "Python 3",
   "language": "python",
   "name": "python3"
  },
  "language_info": {
   "codemirror_mode": {
    "name": "ipython",
    "version": 3
   },
   "file_extension": ".py",
   "mimetype": "text/x-python",
   "name": "python",
   "nbconvert_exporter": "python",
   "pygments_lexer": "ipython3",
   "version": "3.8.5"
  }
 },
 "nbformat": 4,
 "nbformat_minor": 4
}
